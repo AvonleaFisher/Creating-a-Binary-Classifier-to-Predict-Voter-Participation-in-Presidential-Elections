{
 "cells": [
  {
   "cell_type": "markdown",
   "metadata": {},
   "source": [
    "## Functions"
   ]
  },
  {
   "cell_type": "markdown",
   "metadata": {},
   "source": [
    "#### Encode Column"
   ]
  },
  {
   "cell_type": "code",
   "execution_count": 7,
   "metadata": {},
   "outputs": [],
   "source": [
    "def enc_col(df, col, vals, codes, new_col_name):\n",
    "  \n",
    "    \"\"\"Takes in a pandas dataframe, a column in the dataframe, a tuple of values to encode, \n",
    "       a tuple of numeric codes for the values, and a new column name. Numerically encodes \n",
    "       and renames the column. Returns the new column's value counts.\"\"\"\n",
    "    \n",
    "    col_map = dict(zip(vals, codes))\n",
    "    df[col] = df[col].map(col_map).astype('int64')\n",
    "    df.rename(columns={col: new_col_name}, inplace=True)\n",
    "    return df[new_col_name].value_counts()"
   ]
  },
  {
   "cell_type": "markdown",
   "metadata": {},
   "source": [
    "#### Percentage Dictionary"
   ]
  },
  {
   "cell_type": "code",
   "execution_count": 8,
   "metadata": {},
   "outputs": [],
   "source": [
    "def perc_dict(df, col_1, col_2, val_in_col_2):\n",
    "    \n",
    "    \"\"\"Takes in a pandas dataframe, a first column, a second column, and a value in the second column. \n",
    "       Returns a dictionary with the proportion of rows in column 1--for each unique value in column 1--\n",
    "       that also contain the given value for column 2. Best used with columns containing a limited number \n",
    "       of unique values. Column and value names must be in quotes.\"\"\"\n",
    "    \n",
    "    col_dict = {}\n",
    "    \n",
    "    for val in df[col_1].unique():\n",
    "        \n",
    "        rows_with_val = df[df[col_1] == val]\n",
    "        total = rows_with_val[rows_with_val[col_2] == val_in_col_2]\n",
    "        percentage = round(len(total)/len(rows_with_val) * 100, 1)\n",
    "        col_dict[val] = percentage\n",
    "    \n",
    "    return col_dict"
   ]
  },
  {
   "cell_type": "markdown",
   "metadata": {},
   "source": [
    "#### Plot Percentage Dictionary"
   ]
  },
  {
   "cell_type": "code",
   "execution_count": 9,
   "metadata": {},
   "outputs": [],
   "source": [
    "def plot_perc_dict(perc_dict, title):\n",
    "    \n",
    "    \"\"\"Takes in a dictionary returned by the perc_dict function and a bar plot title.\n",
    "       Returns a 20x15 bar plot the dictionary, with values on the x-axis and keys on the y-axis.\"\"\"\n",
    "    \n",
    "    import matplotlib.pyplot as plt\n",
    "    import seaborn as sns\n",
    "    \n",
    "    plt.figure(figsize=(15, 10))\n",
    "    \n",
    "    sns.barplot(x=list(perc_dict.keys()), y=list(perc_dict.values()))\n",
    "    plt.ylabel(\"Percentage\", fontsize=12)\n",
    "    plt.title(title, fontname='silom')\n",
    "        \n",
    "    locs, labels=plt.xticks()\n",
    "    x_ticks = []\n",
    "    new_xticks = list(perc_dict.keys())\n",
    "    plt.xticks(locs,new_xticks, rotation=35, horizontalalignment='right')\n",
    "    plt.plot()"
   ]
  },
  {
   "cell_type": "markdown",
   "metadata": {},
   "source": [
    "#### Plot Confusion Matrix with Scores"
   ]
  },
  {
   "cell_type": "code",
   "execution_count": 10,
   "metadata": {},
   "outputs": [],
   "source": [
    "def plot_cm(model, model_type, display_label_1, display_label_2):\n",
    "   \n",
    "    \"\"\"Takes in a fitted sklearn binary classifier and strings for the the model type, first display label, \n",
    "       and second display label. Returns a 7x5 confusion matrix with accuracy, precision, recall and F1 scores\n",
    "       plotted to the right of the matrix.\"\"\"\n",
    "    \n",
    "    from sklearn.metrics import plot_confusion_matrix\n",
    "    from sklearn.metrics import accuracy_score\n",
    "    from sklearn.metrics import f1_score\n",
    "    from sklearn.metrics import recall_score\n",
    "    from sklearn.metrics import precision_score\n",
    "    \n",
    "    y_preds = model.predict(X_test)\n",
    "    class_names = [display_label_1, display_label_2]\n",
    "    fig, ax = plt.subplots(figsize=(7, 5))\n",
    "    plot_confusion_matrix(model, X_test, y_test,\n",
    "                                 display_labels=class_names,\n",
    "                                 cmap=plt.cm.PuBu, ax=ax)\n",
    "    plt.text(x=-.5, y=-.6, s=\"{} Confusion Matrix\".format(model_type), fontsize=15, fontname='silom')\n",
    "    plt.text(x=2.1, y=.1, s=\"Accuracy: {}\".format(float(round(accuracy_score(y_test, y_preds),4))), fontsize=14)\n",
    "    plt.text(x=2.1, y=.3, s=\"Precision: {}\".format(float(round(precision_score(y_test, y_preds), 4))),fontsize=14)\n",
    "    plt.text(x=2.1, y=.5, s=\"Recall: {}\".format(float(round(recall_score(y_test, y_preds), 4))),fontsize=14)\n",
    "    plt.text(x=2.1, y=.7, s=\"F1: {}\".format(float(round(f1_score(y_test, y_preds), 4))),fontsize=14)\n",
    "    \n",
    "    plt.show()"
   ]
  }
 ],
 "metadata": {
  "kernelspec": {
   "display_name": "Python 3",
   "language": "python",
   "name": "python3"
  },
  "language_info": {
   "codemirror_mode": {
    "name": "ipython",
    "version": 3
   },
   "file_extension": ".py",
   "mimetype": "text/x-python",
   "name": "python",
   "nbconvert_exporter": "python",
   "pygments_lexer": "ipython3",
   "version": "3.6.9"
  }
 },
 "nbformat": 4,
 "nbformat_minor": 2
}
